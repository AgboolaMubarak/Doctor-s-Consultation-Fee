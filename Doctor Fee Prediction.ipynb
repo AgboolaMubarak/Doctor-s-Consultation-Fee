{
 "cells": [
  {
   "cell_type": "code",
   "execution_count": 1,
   "metadata": {},
   "outputs": [],
   "source": [
    "import numpy as np\n",
    "import pandas as pd\n",
    "import seaborn as sns\n",
    "import matplotlib.pyplot as plt"
   ]
  },
  {
   "cell_type": "code",
   "execution_count": 2,
   "metadata": {},
   "outputs": [],
   "source": [
    "data=pd.read_excel('Final_Train.Xlsx')"
   ]
  },
  {
   "cell_type": "code",
   "execution_count": 3,
   "metadata": {},
   "outputs": [],
   "source": [
    "test=pd.read_excel('Final_Test.Xlsx')"
   ]
  },
  {
   "cell_type": "code",
   "execution_count": 4,
   "metadata": {},
   "outputs": [
    {
     "data": {
      "text/html": [
       "<div>\n",
       "<style scoped>\n",
       "    .dataframe tbody tr th:only-of-type {\n",
       "        vertical-align: middle;\n",
       "    }\n",
       "\n",
       "    .dataframe tbody tr th {\n",
       "        vertical-align: top;\n",
       "    }\n",
       "\n",
       "    .dataframe thead th {\n",
       "        text-align: right;\n",
       "    }\n",
       "</style>\n",
       "<table border=\"1\" class=\"dataframe\">\n",
       "  <thead>\n",
       "    <tr style=\"text-align: right;\">\n",
       "      <th></th>\n",
       "      <th>Qualification</th>\n",
       "      <th>Experience</th>\n",
       "      <th>Rating</th>\n",
       "      <th>Place</th>\n",
       "      <th>Profile</th>\n",
       "      <th>Miscellaneous_Info</th>\n",
       "      <th>Fees</th>\n",
       "    </tr>\n",
       "  </thead>\n",
       "  <tbody>\n",
       "    <tr>\n",
       "      <th>0</th>\n",
       "      <td>BHMS, MD - Homeopathy</td>\n",
       "      <td>24 years experience</td>\n",
       "      <td>100%</td>\n",
       "      <td>Kakkanad, Ernakulam</td>\n",
       "      <td>Homeopath</td>\n",
       "      <td>100% 16 Feedback Kakkanad, Ernakulam</td>\n",
       "      <td>100</td>\n",
       "    </tr>\n",
       "    <tr>\n",
       "      <th>1</th>\n",
       "      <td>BAMS, MD - Ayurveda Medicine</td>\n",
       "      <td>12 years experience</td>\n",
       "      <td>98%</td>\n",
       "      <td>Whitefield, Bangalore</td>\n",
       "      <td>Ayurveda</td>\n",
       "      <td>98% 76 Feedback Whitefield, Bangalore</td>\n",
       "      <td>350</td>\n",
       "    </tr>\n",
       "    <tr>\n",
       "      <th>2</th>\n",
       "      <td>MBBS, MS - Otorhinolaryngology</td>\n",
       "      <td>9 years experience</td>\n",
       "      <td>NaN</td>\n",
       "      <td>Mathikere - BEL, Bangalore</td>\n",
       "      <td>ENT Specialist</td>\n",
       "      <td>NaN</td>\n",
       "      <td>300</td>\n",
       "    </tr>\n",
       "    <tr>\n",
       "      <th>3</th>\n",
       "      <td>BSc - Zoology, BAMS</td>\n",
       "      <td>12 years experience</td>\n",
       "      <td>NaN</td>\n",
       "      <td>Bannerghatta Road, Bangalore</td>\n",
       "      <td>Ayurveda</td>\n",
       "      <td>Bannerghatta Road, Bangalore ₹250 Available on...</td>\n",
       "      <td>250</td>\n",
       "    </tr>\n",
       "    <tr>\n",
       "      <th>4</th>\n",
       "      <td>BAMS</td>\n",
       "      <td>20 years experience</td>\n",
       "      <td>100%</td>\n",
       "      <td>Keelkattalai, Chennai</td>\n",
       "      <td>Ayurveda</td>\n",
       "      <td>100% 4 Feedback Keelkattalai, Chennai</td>\n",
       "      <td>250</td>\n",
       "    </tr>\n",
       "  </tbody>\n",
       "</table>\n",
       "</div>"
      ],
      "text/plain": [
       "                    Qualification           Experience Rating  \\\n",
       "0           BHMS, MD - Homeopathy  24 years experience   100%   \n",
       "1    BAMS, MD - Ayurveda Medicine  12 years experience    98%   \n",
       "2  MBBS, MS - Otorhinolaryngology   9 years experience    NaN   \n",
       "3             BSc - Zoology, BAMS  12 years experience    NaN   \n",
       "4                            BAMS  20 years experience   100%   \n",
       "\n",
       "                          Place         Profile  \\\n",
       "0           Kakkanad, Ernakulam       Homeopath   \n",
       "1         Whitefield, Bangalore        Ayurveda   \n",
       "2    Mathikere - BEL, Bangalore  ENT Specialist   \n",
       "3  Bannerghatta Road, Bangalore        Ayurveda   \n",
       "4         Keelkattalai, Chennai        Ayurveda   \n",
       "\n",
       "                                  Miscellaneous_Info  Fees  \n",
       "0               100% 16 Feedback Kakkanad, Ernakulam   100  \n",
       "1              98% 76 Feedback Whitefield, Bangalore   350  \n",
       "2                                                NaN   300  \n",
       "3  Bannerghatta Road, Bangalore ₹250 Available on...   250  \n",
       "4              100% 4 Feedback Keelkattalai, Chennai   250  "
      ]
     },
     "execution_count": 4,
     "metadata": {},
     "output_type": "execute_result"
    }
   ],
   "source": [
    "data.head()"
   ]
  },
  {
   "cell_type": "code",
   "execution_count": 86,
   "metadata": {},
   "outputs": [
    {
     "name": "stdout",
     "output_type": "stream",
     "text": [
      "<class 'pandas.core.frame.DataFrame'>\n",
      "RangeIndex: 5961 entries, 0 to 5960\n",
      "Data columns (total 6 columns):\n",
      "Qualification    5961 non-null object\n",
      "Experience       5961 non-null int32\n",
      "Rating           5961 non-null int32\n",
      "Place            5961 non-null object\n",
      "Profile          5961 non-null object\n",
      "Fees             5961 non-null int64\n",
      "dtypes: int32(2), int64(1), object(3)\n",
      "memory usage: 232.9+ KB\n"
     ]
    }
   ],
   "source": [
    "data.info()"
   ]
  },
  {
   "cell_type": "code",
   "execution_count": 87,
   "metadata": {},
   "outputs": [
    {
     "name": "stdout",
     "output_type": "stream",
     "text": [
      "<class 'pandas.core.frame.DataFrame'>\n",
      "RangeIndex: 1987 entries, 0 to 1986\n",
      "Data columns (total 5 columns):\n",
      "Qualification    1987 non-null object\n",
      "Experience       1987 non-null int32\n",
      "Rating           1987 non-null int32\n",
      "Place            1987 non-null object\n",
      "Profile          1987 non-null object\n",
      "dtypes: int32(2), object(3)\n",
      "memory usage: 62.2+ KB\n"
     ]
    }
   ],
   "source": [
    "test.info()"
   ]
  },
  {
   "cell_type": "code",
   "execution_count": 7,
   "metadata": {},
   "outputs": [
    {
     "data": {
      "text/plain": [
       "950"
      ]
     },
     "execution_count": 7,
     "metadata": {},
     "output_type": "execute_result"
    }
   ],
   "source": [
    "data['Fees'].max()"
   ]
  },
  {
   "cell_type": "code",
   "execution_count": 8,
   "metadata": {},
   "outputs": [
    {
     "data": {
      "text/html": [
       "<div>\n",
       "<style scoped>\n",
       "    .dataframe tbody tr th:only-of-type {\n",
       "        vertical-align: middle;\n",
       "    }\n",
       "\n",
       "    .dataframe tbody tr th {\n",
       "        vertical-align: top;\n",
       "    }\n",
       "\n",
       "    .dataframe thead th {\n",
       "        text-align: right;\n",
       "    }\n",
       "</style>\n",
       "<table border=\"1\" class=\"dataframe\">\n",
       "  <thead>\n",
       "    <tr style=\"text-align: right;\">\n",
       "      <th></th>\n",
       "      <th>Qualification</th>\n",
       "      <th>Experience</th>\n",
       "      <th>Rating</th>\n",
       "      <th>Place</th>\n",
       "      <th>Profile</th>\n",
       "      <th>Miscellaneous_Info</th>\n",
       "      <th>Fees</th>\n",
       "    </tr>\n",
       "  </thead>\n",
       "  <tbody>\n",
       "    <tr>\n",
       "      <th>293</th>\n",
       "      <td>MBBS, MD - Internal Medicine, FRCP</td>\n",
       "      <td>29 years experience</td>\n",
       "      <td>100%</td>\n",
       "      <td>Adyar, Chennai</td>\n",
       "      <td>General Medicine</td>\n",
       "      <td>100% 175 Feedback Adyar, Chennai</td>\n",
       "      <td>950</td>\n",
       "    </tr>\n",
       "  </tbody>\n",
       "</table>\n",
       "</div>"
      ],
      "text/plain": [
       "                          Qualification           Experience Rating  \\\n",
       "293  MBBS, MD - Internal Medicine, FRCP  29 years experience   100%   \n",
       "\n",
       "              Place           Profile                Miscellaneous_Info  Fees  \n",
       "293  Adyar, Chennai  General Medicine  100% 175 Feedback Adyar, Chennai   950  "
      ]
     },
     "execution_count": 8,
     "metadata": {},
     "output_type": "execute_result"
    }
   ],
   "source": [
    "data[data['Fees']==950]"
   ]
  },
  {
   "cell_type": "code",
   "execution_count": 9,
   "metadata": {},
   "outputs": [],
   "source": [
    "def changeexperience(x):\n",
    "    bans=x.split(' ')\n",
    "    return bans[0]"
   ]
  },
  {
   "cell_type": "code",
   "execution_count": 10,
   "metadata": {},
   "outputs": [],
   "source": [
    "data['Experience']=data['Experience'].apply(changeexperience)"
   ]
  },
  {
   "cell_type": "code",
   "execution_count": 11,
   "metadata": {},
   "outputs": [],
   "source": [
    "test['Experience']=test['Experience'].apply(changeexperience)"
   ]
  },
  {
   "cell_type": "code",
   "execution_count": 12,
   "metadata": {},
   "outputs": [
    {
     "data": {
      "text/html": [
       "<div>\n",
       "<style scoped>\n",
       "    .dataframe tbody tr th:only-of-type {\n",
       "        vertical-align: middle;\n",
       "    }\n",
       "\n",
       "    .dataframe tbody tr th {\n",
       "        vertical-align: top;\n",
       "    }\n",
       "\n",
       "    .dataframe thead th {\n",
       "        text-align: right;\n",
       "    }\n",
       "</style>\n",
       "<table border=\"1\" class=\"dataframe\">\n",
       "  <thead>\n",
       "    <tr style=\"text-align: right;\">\n",
       "      <th></th>\n",
       "      <th>Qualification</th>\n",
       "      <th>Experience</th>\n",
       "      <th>Rating</th>\n",
       "      <th>Place</th>\n",
       "      <th>Profile</th>\n",
       "      <th>Miscellaneous_Info</th>\n",
       "      <th>Fees</th>\n",
       "    </tr>\n",
       "  </thead>\n",
       "  <tbody>\n",
       "    <tr>\n",
       "      <th>0</th>\n",
       "      <td>BHMS, MD - Homeopathy</td>\n",
       "      <td>24</td>\n",
       "      <td>100%</td>\n",
       "      <td>Kakkanad, Ernakulam</td>\n",
       "      <td>Homeopath</td>\n",
       "      <td>100% 16 Feedback Kakkanad, Ernakulam</td>\n",
       "      <td>100</td>\n",
       "    </tr>\n",
       "    <tr>\n",
       "      <th>1</th>\n",
       "      <td>BAMS, MD - Ayurveda Medicine</td>\n",
       "      <td>12</td>\n",
       "      <td>98%</td>\n",
       "      <td>Whitefield, Bangalore</td>\n",
       "      <td>Ayurveda</td>\n",
       "      <td>98% 76 Feedback Whitefield, Bangalore</td>\n",
       "      <td>350</td>\n",
       "    </tr>\n",
       "    <tr>\n",
       "      <th>2</th>\n",
       "      <td>MBBS, MS - Otorhinolaryngology</td>\n",
       "      <td>9</td>\n",
       "      <td>NaN</td>\n",
       "      <td>Mathikere - BEL, Bangalore</td>\n",
       "      <td>ENT Specialist</td>\n",
       "      <td>NaN</td>\n",
       "      <td>300</td>\n",
       "    </tr>\n",
       "    <tr>\n",
       "      <th>3</th>\n",
       "      <td>BSc - Zoology, BAMS</td>\n",
       "      <td>12</td>\n",
       "      <td>NaN</td>\n",
       "      <td>Bannerghatta Road, Bangalore</td>\n",
       "      <td>Ayurveda</td>\n",
       "      <td>Bannerghatta Road, Bangalore ₹250 Available on...</td>\n",
       "      <td>250</td>\n",
       "    </tr>\n",
       "    <tr>\n",
       "      <th>4</th>\n",
       "      <td>BAMS</td>\n",
       "      <td>20</td>\n",
       "      <td>100%</td>\n",
       "      <td>Keelkattalai, Chennai</td>\n",
       "      <td>Ayurveda</td>\n",
       "      <td>100% 4 Feedback Keelkattalai, Chennai</td>\n",
       "      <td>250</td>\n",
       "    </tr>\n",
       "  </tbody>\n",
       "</table>\n",
       "</div>"
      ],
      "text/plain": [
       "                    Qualification Experience Rating  \\\n",
       "0           BHMS, MD - Homeopathy         24   100%   \n",
       "1    BAMS, MD - Ayurveda Medicine         12    98%   \n",
       "2  MBBS, MS - Otorhinolaryngology          9    NaN   \n",
       "3             BSc - Zoology, BAMS         12    NaN   \n",
       "4                            BAMS         20   100%   \n",
       "\n",
       "                          Place         Profile  \\\n",
       "0           Kakkanad, Ernakulam       Homeopath   \n",
       "1         Whitefield, Bangalore        Ayurveda   \n",
       "2    Mathikere - BEL, Bangalore  ENT Specialist   \n",
       "3  Bannerghatta Road, Bangalore        Ayurveda   \n",
       "4         Keelkattalai, Chennai        Ayurveda   \n",
       "\n",
       "                                  Miscellaneous_Info  Fees  \n",
       "0               100% 16 Feedback Kakkanad, Ernakulam   100  \n",
       "1              98% 76 Feedback Whitefield, Bangalore   350  \n",
       "2                                                NaN   300  \n",
       "3  Bannerghatta Road, Bangalore ₹250 Available on...   250  \n",
       "4              100% 4 Feedback Keelkattalai, Chennai   250  "
      ]
     },
     "execution_count": 12,
     "metadata": {},
     "output_type": "execute_result"
    }
   ],
   "source": [
    "data.head()"
   ]
  },
  {
   "cell_type": "code",
   "execution_count": 13,
   "metadata": {},
   "outputs": [],
   "source": [
    "data.drop('Miscellaneous_Info',axis=1,inplace=True)"
   ]
  },
  {
   "cell_type": "code",
   "execution_count": 14,
   "metadata": {},
   "outputs": [],
   "source": [
    "test.drop('Miscellaneous_Info',axis=1,inplace=True)"
   ]
  },
  {
   "cell_type": "code",
   "execution_count": 15,
   "metadata": {},
   "outputs": [],
   "source": [
    "def changequali(x):\n",
    "    bans=x.split(' ')\n",
    "    sans=x.split(',')\n",
    "    if ',' not in x:\n",
    "        return bans[0]\n",
    "    else:\n",
    "        return sans[0]"
   ]
  },
  {
   "cell_type": "code",
   "execution_count": 16,
   "metadata": {},
   "outputs": [],
   "source": [
    "data['Qualification']=data['Qualification'].apply(changequali)"
   ]
  },
  {
   "cell_type": "code",
   "execution_count": 17,
   "metadata": {},
   "outputs": [],
   "source": [
    "def removeminus(x):\n",
    "    cabs=x.split('-')\n",
    "    if '-' in x:\n",
    "        return cabs[0]\n",
    "    else:\n",
    "        return x"
   ]
  },
  {
   "cell_type": "code",
   "execution_count": 18,
   "metadata": {},
   "outputs": [],
   "source": [
    "data['Qualification']=data['Qualification'].apply(removeminus)"
   ]
  },
  {
   "cell_type": "code",
   "execution_count": 19,
   "metadata": {},
   "outputs": [],
   "source": [
    "test['Qualification']=test['Qualification'].apply(changequali)"
   ]
  },
  {
   "cell_type": "code",
   "execution_count": 20,
   "metadata": {},
   "outputs": [],
   "source": [
    "test['Qualification']=test['Qualification'].apply(removeminus)"
   ]
  },
  {
   "cell_type": "code",
   "execution_count": 21,
   "metadata": {},
   "outputs": [
    {
     "data": {
      "text/plain": [
       "MBBS                                                                   865\n",
       "BDS                                                                    371\n",
       "BHMS                                                                   232\n",
       "BAMS                                                                   228\n",
       "MD                                                                      74\n",
       "MDS                                                                     48\n",
       "MS                                                                      31\n",
       "MD                                                                      18\n",
       "DNB                                                                     13\n",
       "MDS                                                                     13\n",
       "DDVL                                                                    13\n",
       "DHMS (Diploma in Homeopathic Medicine and Surgery)                       7\n",
       "B.Sc                                                                     6\n",
       "Diploma in Otorhinolaryngology (DLO)                                     6\n",
       "Get                                                                      6\n",
       "MS                                                                       5\n",
       "LCEH                                                                     5\n",
       "DHMS                                                                     4\n",
       "BSc                                                                      3\n",
       "Diploma in Dermatology                                                   2\n",
       "BSAM                                                                     2\n",
       "Diploma                                                                  2\n",
       "DM                                                                       2\n",
       "BSc                                                                      2\n",
       "M.S. (Ayurved) Stri Roga & Prasuti Tantra                                1\n",
       "FAMS                                                                     1\n",
       "Diploma in Child Health (DCH)                                            1\n",
       "Diploma in ENT                                                           1\n",
       "DO                                                                       1\n",
       "DEHM                                                                     1\n",
       "DMS                                                                      1\n",
       "Post Graduate Diploma in Diabetology (PGDD)(Madras Medical College)      1\n",
       "PhD                                                                      1\n",
       "MRCS (UK)                                                                1\n",
       "MRCP (UK)                                                                1\n",
       "M.D. (Ayu.)                                                              1\n",
       "BPTh/BPT                                                                 1\n",
       "MRCGP                                                                    1\n",
       "DVD                                                                      1\n",
       "Diploma in Aesthetic Medicine                                            1\n",
       "Diploma in Cardiology                                                    1\n",
       "FRCS                                                                     1\n",
       "FICD                                                                     1\n",
       "FWFO                                                                     1\n",
       "Diploma in Hospital Administration                                       1\n",
       "Doctor                                                                   1\n",
       "FPFA                                                                     1\n",
       "Certification in Aesthetic Dentistry                                     1\n",
       "Post Graduate Certificate in Endodontics (PGCE)                          1\n",
       "DPM (Psychiatry)                                                         1\n",
       "Certificate in Dental Implants                                           1\n",
       "FRCP                                                                     1\n",
       "Fellowship in Aesthetic Medicine                                         1\n",
       "Name: Qualification, dtype: int64"
      ]
     },
     "execution_count": 21,
     "metadata": {},
     "output_type": "execute_result"
    }
   ],
   "source": [
    "test['Qualification'].value_counts()"
   ]
  },
  {
   "cell_type": "code",
   "execution_count": 22,
   "metadata": {},
   "outputs": [],
   "source": [
    "def stillqua(x):\n",
    "    dab=x.strip('.')\n",
    "    tab= dab.lower()\n",
    "    mylist=['bsc','diploma','certifi','doctor']\n",
    "    if mylist[0] in tab:\n",
    "        return 'BSC'\n",
    "    elif mylist[1] in tab:\n",
    "        return 'Diploma'\n",
    "    elif mylist[2] in tab:\n",
    "        return 'Certification'\n",
    "    elif mylist[3] in tab:\n",
    "        return 'PhD'\n",
    "    else:\n",
    "        return x"
   ]
  },
  {
   "cell_type": "code",
   "execution_count": 23,
   "metadata": {},
   "outputs": [],
   "source": [
    "test['Qualification']=test['Qualification'].apply(stillqua)"
   ]
  },
  {
   "cell_type": "code",
   "execution_count": 24,
   "metadata": {},
   "outputs": [
    {
     "data": {
      "text/plain": [
       "MBBS                                         865\n",
       "BDS                                          371\n",
       "BHMS                                         232\n",
       "BAMS                                         228\n",
       "MD                                            74\n",
       "MDS                                           48\n",
       "MS                                            31\n",
       "Diploma                                       23\n",
       "MD                                            18\n",
       "DNB                                           13\n",
       "MDS                                           13\n",
       "DDVL                                          13\n",
       "B.Sc                                           6\n",
       "Get                                            6\n",
       "LCEH                                           5\n",
       "BSC                                            5\n",
       "MS                                             5\n",
       "DHMS                                           4\n",
       "Certification                                  3\n",
       "DM                                             2\n",
       "BSAM                                           2\n",
       "M.S. (Ayurved) Stri Roga & Prasuti Tantra      1\n",
       "FAMS                                           1\n",
       "PhD                                            1\n",
       "DEHM                                           1\n",
       "DMS                                            1\n",
       "DO                                             1\n",
       "PhD                                            1\n",
       "MRCS (UK)                                      1\n",
       "FRCP                                           1\n",
       "DPM (Psychiatry)                               1\n",
       "FPFA                                           1\n",
       "FWFO                                           1\n",
       "M.D. (Ayu.)                                    1\n",
       "FICD                                           1\n",
       "FRCS                                           1\n",
       "DVD                                            1\n",
       "MRCGP                                          1\n",
       "BPTh/BPT                                       1\n",
       "MRCP (UK)                                      1\n",
       "Fellowship in Aesthetic Medicine               1\n",
       "Name: Qualification, dtype: int64"
      ]
     },
     "execution_count": 24,
     "metadata": {},
     "output_type": "execute_result"
    }
   ],
   "source": [
    "test['Qualification'].value_counts()"
   ]
  },
  {
   "cell_type": "code",
   "execution_count": 25,
   "metadata": {},
   "outputs": [],
   "source": [
    "data['Qualification']=data['Qualification'].apply(stillqua)"
   ]
  },
  {
   "cell_type": "code",
   "execution_count": 26,
   "metadata": {},
   "outputs": [
    {
     "data": {
      "text/html": [
       "<div>\n",
       "<style scoped>\n",
       "    .dataframe tbody tr th:only-of-type {\n",
       "        vertical-align: middle;\n",
       "    }\n",
       "\n",
       "    .dataframe tbody tr th {\n",
       "        vertical-align: top;\n",
       "    }\n",
       "\n",
       "    .dataframe thead th {\n",
       "        text-align: right;\n",
       "    }\n",
       "</style>\n",
       "<table border=\"1\" class=\"dataframe\">\n",
       "  <thead>\n",
       "    <tr style=\"text-align: right;\">\n",
       "      <th></th>\n",
       "      <th>Qualification</th>\n",
       "      <th>Experience</th>\n",
       "      <th>Rating</th>\n",
       "      <th>Place</th>\n",
       "      <th>Profile</th>\n",
       "      <th>Fees</th>\n",
       "    </tr>\n",
       "  </thead>\n",
       "  <tbody>\n",
       "    <tr>\n",
       "      <th>275</th>\n",
       "      <td>MD</td>\n",
       "      <td>6</td>\n",
       "      <td>NaN</td>\n",
       "      <td>Chanakyapuri, Delhi</td>\n",
       "      <td>Dermatologists</td>\n",
       "      <td>900</td>\n",
       "    </tr>\n",
       "    <tr>\n",
       "      <th>293</th>\n",
       "      <td>MBBS</td>\n",
       "      <td>29</td>\n",
       "      <td>100%</td>\n",
       "      <td>Adyar, Chennai</td>\n",
       "      <td>General Medicine</td>\n",
       "      <td>950</td>\n",
       "    </tr>\n",
       "    <tr>\n",
       "      <th>987</th>\n",
       "      <td>MBBS</td>\n",
       "      <td>25</td>\n",
       "      <td>93%</td>\n",
       "      <td>Shalimar Bagh, Delhi</td>\n",
       "      <td>ENT Specialist</td>\n",
       "      <td>900</td>\n",
       "    </tr>\n",
       "    <tr>\n",
       "      <th>1314</th>\n",
       "      <td>MBBS</td>\n",
       "      <td>33</td>\n",
       "      <td>100%</td>\n",
       "      <td>Mira-Bhayandar Road, Mumbai</td>\n",
       "      <td>General Medicine</td>\n",
       "      <td>900</td>\n",
       "    </tr>\n",
       "    <tr>\n",
       "      <th>1631</th>\n",
       "      <td>MBBS</td>\n",
       "      <td>6</td>\n",
       "      <td>NaN</td>\n",
       "      <td>Kandivali West, Mumbai</td>\n",
       "      <td>Dermatologists</td>\n",
       "      <td>900</td>\n",
       "    </tr>\n",
       "    <tr>\n",
       "      <th>2165</th>\n",
       "      <td>MBBS</td>\n",
       "      <td>8</td>\n",
       "      <td>100%</td>\n",
       "      <td>Kandivali West, Mumbai</td>\n",
       "      <td>General Medicine</td>\n",
       "      <td>900</td>\n",
       "    </tr>\n",
       "    <tr>\n",
       "      <th>2252</th>\n",
       "      <td>MBBS</td>\n",
       "      <td>46</td>\n",
       "      <td>95%</td>\n",
       "      <td>Richmond Town, Bangalore</td>\n",
       "      <td>ENT Specialist</td>\n",
       "      <td>900</td>\n",
       "    </tr>\n",
       "    <tr>\n",
       "      <th>2393</th>\n",
       "      <td>BHMS</td>\n",
       "      <td>19</td>\n",
       "      <td>100%</td>\n",
       "      <td>Mulund West, Mumbai</td>\n",
       "      <td>Homeopath</td>\n",
       "      <td>900</td>\n",
       "    </tr>\n",
       "    <tr>\n",
       "      <th>2428</th>\n",
       "      <td>MA</td>\n",
       "      <td>6</td>\n",
       "      <td>NaN</td>\n",
       "      <td>Vasant Kunj, Delhi</td>\n",
       "      <td>Homeopath</td>\n",
       "      <td>900</td>\n",
       "    </tr>\n",
       "    <tr>\n",
       "      <th>2522</th>\n",
       "      <td>BHMS</td>\n",
       "      <td>27</td>\n",
       "      <td>98%</td>\n",
       "      <td>Mulund West, Mumbai</td>\n",
       "      <td>Homeopath</td>\n",
       "      <td>900</td>\n",
       "    </tr>\n",
       "    <tr>\n",
       "      <th>2623</th>\n",
       "      <td>MBBS</td>\n",
       "      <td>31</td>\n",
       "      <td>NaN</td>\n",
       "      <td>East Of Kailash, Delhi</td>\n",
       "      <td>General Medicine</td>\n",
       "      <td>900</td>\n",
       "    </tr>\n",
       "    <tr>\n",
       "      <th>2708</th>\n",
       "      <td>MBBS</td>\n",
       "      <td>18</td>\n",
       "      <td>97%</td>\n",
       "      <td>Andheri West, Mumbai</td>\n",
       "      <td>Dermatologists</td>\n",
       "      <td>900</td>\n",
       "    </tr>\n",
       "    <tr>\n",
       "      <th>3365</th>\n",
       "      <td>MD</td>\n",
       "      <td>18</td>\n",
       "      <td>95%</td>\n",
       "      <td>Dadar West, Mumbai</td>\n",
       "      <td>Homeopath</td>\n",
       "      <td>920</td>\n",
       "    </tr>\n",
       "    <tr>\n",
       "      <th>4040</th>\n",
       "      <td>MBBS</td>\n",
       "      <td>31</td>\n",
       "      <td>NaN</td>\n",
       "      <td>East Of Kailash, Delhi</td>\n",
       "      <td>General Medicine</td>\n",
       "      <td>900</td>\n",
       "    </tr>\n",
       "    <tr>\n",
       "      <th>4405</th>\n",
       "      <td>MBBS</td>\n",
       "      <td>16</td>\n",
       "      <td>NaN</td>\n",
       "      <td>Chanakyapuri, Delhi</td>\n",
       "      <td>General Medicine</td>\n",
       "      <td>850</td>\n",
       "    </tr>\n",
       "    <tr>\n",
       "      <th>4581</th>\n",
       "      <td>BAMS</td>\n",
       "      <td>39</td>\n",
       "      <td>NaN</td>\n",
       "      <td>Karol Bagh, Delhi</td>\n",
       "      <td>Ayurveda</td>\n",
       "      <td>900</td>\n",
       "    </tr>\n",
       "    <tr>\n",
       "      <th>4730</th>\n",
       "      <td>DNB</td>\n",
       "      <td>23</td>\n",
       "      <td>NaN</td>\n",
       "      <td>Powai, Mumbai</td>\n",
       "      <td>Dermatologists</td>\n",
       "      <td>900</td>\n",
       "    </tr>\n",
       "    <tr>\n",
       "      <th>4835</th>\n",
       "      <td>MBBS</td>\n",
       "      <td>15</td>\n",
       "      <td>97%</td>\n",
       "      <td>Vasant Kunj, Delhi</td>\n",
       "      <td>Dermatologists</td>\n",
       "      <td>900</td>\n",
       "    </tr>\n",
       "    <tr>\n",
       "      <th>5195</th>\n",
       "      <td>MBBS</td>\n",
       "      <td>39</td>\n",
       "      <td>NaN</td>\n",
       "      <td>Model Town, Delhi</td>\n",
       "      <td>ENT Specialist</td>\n",
       "      <td>900</td>\n",
       "    </tr>\n",
       "    <tr>\n",
       "      <th>5250</th>\n",
       "      <td>MD</td>\n",
       "      <td>6</td>\n",
       "      <td>NaN</td>\n",
       "      <td>Saket, Delhi</td>\n",
       "      <td>General Medicine</td>\n",
       "      <td>900</td>\n",
       "    </tr>\n",
       "    <tr>\n",
       "      <th>5311</th>\n",
       "      <td>BDS</td>\n",
       "      <td>14</td>\n",
       "      <td>100%</td>\n",
       "      <td>Panchsheel Park, Delhi</td>\n",
       "      <td>Dentist</td>\n",
       "      <td>900</td>\n",
       "    </tr>\n",
       "  </tbody>\n",
       "</table>\n",
       "</div>"
      ],
      "text/plain": [
       "     Qualification Experience Rating                        Place  \\\n",
       "275            MD           6    NaN          Chanakyapuri, Delhi   \n",
       "293           MBBS         29   100%               Adyar, Chennai   \n",
       "987           MBBS         25    93%         Shalimar Bagh, Delhi   \n",
       "1314          MBBS         33   100%  Mira-Bhayandar Road, Mumbai   \n",
       "1631          MBBS          6    NaN       Kandivali West, Mumbai   \n",
       "2165          MBBS          8   100%       Kandivali West, Mumbai   \n",
       "2252          MBBS         46    95%     Richmond Town, Bangalore   \n",
       "2393          BHMS         19   100%          Mulund West, Mumbai   \n",
       "2428           MA           6    NaN           Vasant Kunj, Delhi   \n",
       "2522          BHMS         27    98%          Mulund West, Mumbai   \n",
       "2623          MBBS         31    NaN       East Of Kailash, Delhi   \n",
       "2708          MBBS         18    97%         Andheri West, Mumbai   \n",
       "3365           MD          18    95%           Dadar West, Mumbai   \n",
       "4040          MBBS         31    NaN       East Of Kailash, Delhi   \n",
       "4405          MBBS         16    NaN          Chanakyapuri, Delhi   \n",
       "4581          BAMS         39    NaN            Karol Bagh, Delhi   \n",
       "4730          DNB          23    NaN                Powai, Mumbai   \n",
       "4835          MBBS         15    97%           Vasant Kunj, Delhi   \n",
       "5195          MBBS         39    NaN            Model Town, Delhi   \n",
       "5250           MD           6    NaN                 Saket, Delhi   \n",
       "5311           BDS         14   100%       Panchsheel Park, Delhi   \n",
       "\n",
       "               Profile  Fees  \n",
       "275     Dermatologists   900  \n",
       "293   General Medicine   950  \n",
       "987     ENT Specialist   900  \n",
       "1314  General Medicine   900  \n",
       "1631    Dermatologists   900  \n",
       "2165  General Medicine   900  \n",
       "2252    ENT Specialist   900  \n",
       "2393         Homeopath   900  \n",
       "2428         Homeopath   900  \n",
       "2522         Homeopath   900  \n",
       "2623  General Medicine   900  \n",
       "2708    Dermatologists   900  \n",
       "3365         Homeopath   920  \n",
       "4040  General Medicine   900  \n",
       "4405  General Medicine   850  \n",
       "4581          Ayurveda   900  \n",
       "4730    Dermatologists   900  \n",
       "4835    Dermatologists   900  \n",
       "5195    ENT Specialist   900  \n",
       "5250  General Medicine   900  \n",
       "5311           Dentist   900  "
      ]
     },
     "execution_count": 26,
     "metadata": {},
     "output_type": "execute_result"
    }
   ],
   "source": [
    "data[data['Fees']>800]"
   ]
  },
  {
   "cell_type": "code",
   "execution_count": 27,
   "metadata": {},
   "outputs": [
    {
     "data": {
      "text/plain": [
       "General Medicine    7\n",
       "Dermatologists      5\n",
       "Homeopath           4\n",
       "ENT Specialist      3\n",
       "Dentist             1\n",
       "Ayurveda            1\n",
       "Name: Profile, dtype: int64"
      ]
     },
     "execution_count": 27,
     "metadata": {},
     "output_type": "execute_result"
    }
   ],
   "source": [
    "data[data['Fees']>800]['Profile'].value_counts()"
   ]
  },
  {
   "cell_type": "code",
   "execution_count": 28,
   "metadata": {},
   "outputs": [],
   "source": [
    "data['Experience']=data['Experience'].astype(int)"
   ]
  },
  {
   "cell_type": "code",
   "execution_count": 29,
   "metadata": {},
   "outputs": [],
   "source": [
    "test['Experience']=test['Experience'].astype(int)"
   ]
  },
  {
   "cell_type": "code",
   "execution_count": 30,
   "metadata": {},
   "outputs": [
    {
     "data": {
      "text/plain": [
       "66"
      ]
     },
     "execution_count": 30,
     "metadata": {},
     "output_type": "execute_result"
    }
   ],
   "source": [
    "data['Experience'].max()"
   ]
  },
  {
   "cell_type": "code",
   "execution_count": 31,
   "metadata": {},
   "outputs": [
    {
     "data": {
      "text/plain": [
       "65"
      ]
     },
     "execution_count": 31,
     "metadata": {},
     "output_type": "execute_result"
    }
   ],
   "source": [
    "test['Experience'].max()"
   ]
  },
  {
   "cell_type": "code",
   "execution_count": 32,
   "metadata": {},
   "outputs": [
    {
     "data": {
      "text/html": [
       "<div>\n",
       "<style scoped>\n",
       "    .dataframe tbody tr th:only-of-type {\n",
       "        vertical-align: middle;\n",
       "    }\n",
       "\n",
       "    .dataframe tbody tr th {\n",
       "        vertical-align: top;\n",
       "    }\n",
       "\n",
       "    .dataframe thead th {\n",
       "        text-align: right;\n",
       "    }\n",
       "</style>\n",
       "<table border=\"1\" class=\"dataframe\">\n",
       "  <thead>\n",
       "    <tr style=\"text-align: right;\">\n",
       "      <th></th>\n",
       "      <th>Qualification</th>\n",
       "      <th>Experience</th>\n",
       "      <th>Rating</th>\n",
       "      <th>Place</th>\n",
       "      <th>Profile</th>\n",
       "      <th>Fees</th>\n",
       "    </tr>\n",
       "  </thead>\n",
       "  <tbody>\n",
       "    <tr>\n",
       "      <th>372</th>\n",
       "      <td>MBBS</td>\n",
       "      <td>66</td>\n",
       "      <td>NaN</td>\n",
       "      <td>Greams Road, Chennai</td>\n",
       "      <td>ENT Specialist</td>\n",
       "      <td>100</td>\n",
       "    </tr>\n",
       "  </tbody>\n",
       "</table>\n",
       "</div>"
      ],
      "text/plain": [
       "    Qualification  Experience Rating                 Place         Profile  \\\n",
       "372          MBBS          66    NaN  Greams Road, Chennai  ENT Specialist   \n",
       "\n",
       "     Fees  \n",
       "372   100  "
      ]
     },
     "execution_count": 32,
     "metadata": {},
     "output_type": "execute_result"
    }
   ],
   "source": [
    "data[data['Experience']==66]"
   ]
  },
  {
   "cell_type": "code",
   "execution_count": 33,
   "metadata": {},
   "outputs": [],
   "source": [
    "caps=data[data['Rating'].notnull()]"
   ]
  },
  {
   "cell_type": "code",
   "execution_count": 34,
   "metadata": {},
   "outputs": [
    {
     "data": {
      "text/html": [
       "<div>\n",
       "<style scoped>\n",
       "    .dataframe tbody tr th:only-of-type {\n",
       "        vertical-align: middle;\n",
       "    }\n",
       "\n",
       "    .dataframe tbody tr th {\n",
       "        vertical-align: top;\n",
       "    }\n",
       "\n",
       "    .dataframe thead th {\n",
       "        text-align: right;\n",
       "    }\n",
       "</style>\n",
       "<table border=\"1\" class=\"dataframe\">\n",
       "  <thead>\n",
       "    <tr style=\"text-align: right;\">\n",
       "      <th></th>\n",
       "      <th>Qualification</th>\n",
       "      <th>Experience</th>\n",
       "      <th>Rating</th>\n",
       "      <th>Place</th>\n",
       "      <th>Profile</th>\n",
       "      <th>Fees</th>\n",
       "    </tr>\n",
       "  </thead>\n",
       "  <tbody>\n",
       "    <tr>\n",
       "      <th>0</th>\n",
       "      <td>BHMS</td>\n",
       "      <td>24</td>\n",
       "      <td>100%</td>\n",
       "      <td>Kakkanad, Ernakulam</td>\n",
       "      <td>Homeopath</td>\n",
       "      <td>100</td>\n",
       "    </tr>\n",
       "    <tr>\n",
       "      <th>1</th>\n",
       "      <td>BAMS</td>\n",
       "      <td>12</td>\n",
       "      <td>98%</td>\n",
       "      <td>Whitefield, Bangalore</td>\n",
       "      <td>Ayurveda</td>\n",
       "      <td>350</td>\n",
       "    </tr>\n",
       "    <tr>\n",
       "      <th>4</th>\n",
       "      <td>BAMS</td>\n",
       "      <td>20</td>\n",
       "      <td>100%</td>\n",
       "      <td>Keelkattalai, Chennai</td>\n",
       "      <td>Ayurveda</td>\n",
       "      <td>250</td>\n",
       "    </tr>\n",
       "    <tr>\n",
       "      <th>7</th>\n",
       "      <td>BDS</td>\n",
       "      <td>10</td>\n",
       "      <td>99%</td>\n",
       "      <td>Arekere, Bangalore</td>\n",
       "      <td>Dentist</td>\n",
       "      <td>200</td>\n",
       "    </tr>\n",
       "    <tr>\n",
       "      <th>12</th>\n",
       "      <td>BDS</td>\n",
       "      <td>9</td>\n",
       "      <td>98%</td>\n",
       "      <td>Coimbatore Racecourse, Coimbatore</td>\n",
       "      <td>Dentist</td>\n",
       "      <td>200</td>\n",
       "    </tr>\n",
       "  </tbody>\n",
       "</table>\n",
       "</div>"
      ],
      "text/plain": [
       "   Qualification  Experience Rating                              Place  \\\n",
       "0           BHMS          24   100%                Kakkanad, Ernakulam   \n",
       "1           BAMS          12    98%              Whitefield, Bangalore   \n",
       "4           BAMS          20   100%              Keelkattalai, Chennai   \n",
       "7            BDS          10    99%                 Arekere, Bangalore   \n",
       "12           BDS           9    98%  Coimbatore Racecourse, Coimbatore   \n",
       "\n",
       "      Profile  Fees  \n",
       "0   Homeopath   100  \n",
       "1    Ayurveda   350  \n",
       "4    Ayurveda   250  \n",
       "7     Dentist   200  \n",
       "12    Dentist   200  "
      ]
     },
     "execution_count": 34,
     "metadata": {},
     "output_type": "execute_result"
    }
   ],
   "source": [
    "caps.head()"
   ]
  },
  {
   "cell_type": "code",
   "execution_count": 35,
   "metadata": {},
   "outputs": [],
   "source": [
    "def removepercent(x):\n",
    "    vans=x.split('%')\n",
    "    return vans[0]"
   ]
  },
  {
   "cell_type": "code",
   "execution_count": 36,
   "metadata": {},
   "outputs": [
    {
     "name": "stderr",
     "output_type": "stream",
     "text": [
      "C:\\Users\\Mubarak\\Anaconda3\\lib\\site-packages\\ipykernel_launcher.py:1: SettingWithCopyWarning: \n",
      "A value is trying to be set on a copy of a slice from a DataFrame.\n",
      "Try using .loc[row_indexer,col_indexer] = value instead\n",
      "\n",
      "See the caveats in the documentation: http://pandas.pydata.org/pandas-docs/stable/indexing.html#indexing-view-versus-copy\n",
      "  \"\"\"Entry point for launching an IPython kernel.\n"
     ]
    }
   ],
   "source": [
    "caps['Rating']=caps['Rating'].apply(removepercent)"
   ]
  },
  {
   "cell_type": "code",
   "execution_count": 37,
   "metadata": {},
   "outputs": [
    {
     "data": {
      "text/plain": [
       "Dentist             1397\n",
       "General Medicine    1173\n",
       "Dermatologists      1034\n",
       "Homeopath            843\n",
       "Ayurveda             786\n",
       "ENT Specialist       728\n",
       "Name: Profile, dtype: int64"
      ]
     },
     "execution_count": 37,
     "metadata": {},
     "output_type": "execute_result"
    }
   ],
   "source": [
    "data['Profile'].value_counts()"
   ]
  },
  {
   "cell_type": "code",
   "execution_count": 38,
   "metadata": {},
   "outputs": [
    {
     "name": "stderr",
     "output_type": "stream",
     "text": [
      "C:\\Users\\Mubarak\\Anaconda3\\lib\\site-packages\\ipykernel_launcher.py:1: SettingWithCopyWarning: \n",
      "A value is trying to be set on a copy of a slice from a DataFrame.\n",
      "Try using .loc[row_indexer,col_indexer] = value instead\n",
      "\n",
      "See the caveats in the documentation: http://pandas.pydata.org/pandas-docs/stable/indexing.html#indexing-view-versus-copy\n",
      "  \"\"\"Entry point for launching an IPython kernel.\n"
     ]
    }
   ],
   "source": [
    "caps['Rating']=caps['Rating'].astype(int)"
   ]
  },
  {
   "cell_type": "code",
   "execution_count": 63,
   "metadata": {},
   "outputs": [],
   "source": [
    "def Placeexactly(x):\n",
    "    wans=str(x).split(' ')\n",
    "    return wans[-1]"
   ]
  },
  {
   "cell_type": "code",
   "execution_count": 40,
   "metadata": {},
   "outputs": [
    {
     "data": {
      "text/plain": [
       "Profile\n",
       "Ayurveda            96.327957\n",
       "Dentist             97.706016\n",
       "Dermatologists      93.506270\n",
       "ENT Specialist      89.315789\n",
       "General Medicine    91.592308\n",
       "Homeopath           96.657692\n",
       "Name: Rating, dtype: float64"
      ]
     },
     "execution_count": 40,
     "metadata": {},
     "output_type": "execute_result"
    }
   ],
   "source": [
    "caps.groupby('Profile')['Rating'].mean()"
   ]
  },
  {
   "cell_type": "code",
   "execution_count": 41,
   "metadata": {},
   "outputs": [],
   "source": [
    "def fillratings(cols):\n",
    "    Rating = cols[0]\n",
    "    Profile = cols[1]\n",
    "    \n",
    "    if pd.isnull(Rating):\n",
    "\n",
    "        if Profile == 'Ayurveda':\n",
    "            return '96%'\n",
    "\n",
    "        elif Profile == 'Dentist':\n",
    "            return '98%'\n",
    "        elif Profile=='Dermatologists':\n",
    "            return '94%'\n",
    "        elif Profile=='ENT Specialist':\n",
    "            return '89%'\n",
    "        elif Profile=='General Medicine':\n",
    "            return '92%'\n",
    "        elif Profile=='Homeopath':\n",
    "            return '97%'\n",
    "    else:\n",
    "        return Rating"
   ]
  },
  {
   "cell_type": "code",
   "execution_count": 42,
   "metadata": {},
   "outputs": [],
   "source": [
    "data['Rating']=data[['Rating','Profile']].apply(fillratings,axis=1)"
   ]
  },
  {
   "cell_type": "code",
   "execution_count": 43,
   "metadata": {},
   "outputs": [],
   "source": [
    "baps=test[test['Rating'].notnull()]"
   ]
  },
  {
   "cell_type": "code",
   "execution_count": 44,
   "metadata": {},
   "outputs": [
    {
     "name": "stderr",
     "output_type": "stream",
     "text": [
      "C:\\Users\\Mubarak\\Anaconda3\\lib\\site-packages\\ipykernel_launcher.py:1: SettingWithCopyWarning: \n",
      "A value is trying to be set on a copy of a slice from a DataFrame.\n",
      "Try using .loc[row_indexer,col_indexer] = value instead\n",
      "\n",
      "See the caveats in the documentation: http://pandas.pydata.org/pandas-docs/stable/indexing.html#indexing-view-versus-copy\n",
      "  \"\"\"Entry point for launching an IPython kernel.\n"
     ]
    }
   ],
   "source": [
    "baps['Rating']=baps['Rating'].apply(removepercent)"
   ]
  },
  {
   "cell_type": "code",
   "execution_count": 45,
   "metadata": {},
   "outputs": [
    {
     "data": {
      "text/plain": [
       "General Medicine    444\n",
       "Dentist             441\n",
       "Dermatologists      339\n",
       "Homeopath           277\n",
       "Ayurveda            251\n",
       "ENT Specialist      235\n",
       "Name: Profile, dtype: int64"
      ]
     },
     "execution_count": 45,
     "metadata": {},
     "output_type": "execute_result"
    }
   ],
   "source": [
    "test['Profile'].value_counts()"
   ]
  },
  {
   "cell_type": "code",
   "execution_count": 46,
   "metadata": {},
   "outputs": [
    {
     "name": "stderr",
     "output_type": "stream",
     "text": [
      "C:\\Users\\Mubarak\\Anaconda3\\lib\\site-packages\\ipykernel_launcher.py:1: SettingWithCopyWarning: \n",
      "A value is trying to be set on a copy of a slice from a DataFrame.\n",
      "Try using .loc[row_indexer,col_indexer] = value instead\n",
      "\n",
      "See the caveats in the documentation: http://pandas.pydata.org/pandas-docs/stable/indexing.html#indexing-view-versus-copy\n",
      "  \"\"\"Entry point for launching an IPython kernel.\n"
     ]
    }
   ],
   "source": [
    "baps['Rating']=baps['Rating'].astype(int)"
   ]
  },
  {
   "cell_type": "code",
   "execution_count": 47,
   "metadata": {},
   "outputs": [
    {
     "data": {
      "text/plain": [
       "Profile\n",
       "Ayurveda            96.126984\n",
       "Dentist             97.674912\n",
       "Dermatologists      93.263158\n",
       "ENT Specialist      88.000000\n",
       "General Medicine    92.871622\n",
       "Homeopath           96.126437\n",
       "Name: Rating, dtype: float64"
      ]
     },
     "execution_count": 47,
     "metadata": {},
     "output_type": "execute_result"
    }
   ],
   "source": [
    "baps.groupby('Profile')['Rating'].mean()"
   ]
  },
  {
   "cell_type": "code",
   "execution_count": 48,
   "metadata": {},
   "outputs": [],
   "source": [
    "def testfillratings(cols):\n",
    "    Rating = cols[0]\n",
    "    Profile = cols[1]\n",
    "    \n",
    "    if pd.isnull(Rating):\n",
    "\n",
    "        if Profile == 'Ayurveda':\n",
    "            return '96%'\n",
    "\n",
    "        elif Profile == 'Dentist':\n",
    "            return '98%'\n",
    "        elif Profile=='Dermatologists':\n",
    "            return '93%'\n",
    "        elif Profile=='ENT Specialist':\n",
    "            return '88%'\n",
    "        elif Profile=='General Medicine':\n",
    "            return '93%'\n",
    "        elif Profile=='Homeopath':\n",
    "            return '96%'\n",
    "    else:\n",
    "        return Rating"
   ]
  },
  {
   "cell_type": "code",
   "execution_count": 49,
   "metadata": {},
   "outputs": [],
   "source": [
    "test['Rating']=test[['Rating','Profile']].apply(testfillratings,axis=1)"
   ]
  },
  {
   "cell_type": "code",
   "execution_count": 50,
   "metadata": {},
   "outputs": [],
   "source": [
    "data['Rating']=data['Rating'].apply(removepercent)"
   ]
  },
  {
   "cell_type": "code",
   "execution_count": 51,
   "metadata": {},
   "outputs": [],
   "source": [
    "test['Rating']=test['Rating'].apply(removepercent)"
   ]
  },
  {
   "cell_type": "code",
   "execution_count": 52,
   "metadata": {},
   "outputs": [],
   "source": [
    "data['Rating']=data['Rating'].astype(int)"
   ]
  },
  {
   "cell_type": "code",
   "execution_count": 53,
   "metadata": {},
   "outputs": [],
   "source": [
    "test['Rating']=test['Rating'].astype(int)"
   ]
  },
  {
   "cell_type": "code",
   "execution_count": 54,
   "metadata": {},
   "outputs": [],
   "source": [
    "taps=data[data['Place'].notnull()]"
   ]
  },
  {
   "cell_type": "code",
   "execution_count": 64,
   "metadata": {},
   "outputs": [
    {
     "name": "stderr",
     "output_type": "stream",
     "text": [
      "C:\\Users\\Mubarak\\Anaconda3\\lib\\site-packages\\ipykernel_launcher.py:1: SettingWithCopyWarning: \n",
      "A value is trying to be set on a copy of a slice from a DataFrame.\n",
      "Try using .loc[row_indexer,col_indexer] = value instead\n",
      "\n",
      "See the caveats in the documentation: http://pandas.pydata.org/pandas-docs/stable/indexing.html#indexing-view-versus-copy\n",
      "  \"\"\"Entry point for launching an IPython kernel.\n"
     ]
    }
   ],
   "source": [
    "taps['Place']=taps['Place'].apply(Placeexactly)"
   ]
  },
  {
   "cell_type": "code",
   "execution_count": 66,
   "metadata": {},
   "outputs": [
    {
     "data": {
      "text/plain": [
       "Bangalore             1258\n",
       "Mumbai                1219\n",
       "Delhi                 1185\n",
       "Hyderabad              951\n",
       "Chennai                855\n",
       "Coimbatore             228\n",
       "Ernakulam              153\n",
       "Thiruvananthapuram      86\n",
       "e                        1\n",
       "Name: Place, dtype: int64"
      ]
     },
     "execution_count": 66,
     "metadata": {},
     "output_type": "execute_result"
    }
   ],
   "source": [
    "taps['Place'].value_counts()"
   ]
  },
  {
   "cell_type": "code",
   "execution_count": 68,
   "metadata": {},
   "outputs": [
    {
     "data": {
      "text/html": [
       "<div>\n",
       "<style scoped>\n",
       "    .dataframe tbody tr th:only-of-type {\n",
       "        vertical-align: middle;\n",
       "    }\n",
       "\n",
       "    .dataframe tbody tr th {\n",
       "        vertical-align: top;\n",
       "    }\n",
       "\n",
       "    .dataframe thead th {\n",
       "        text-align: right;\n",
       "    }\n",
       "</style>\n",
       "<table border=\"1\" class=\"dataframe\">\n",
       "  <thead>\n",
       "    <tr style=\"text-align: right;\">\n",
       "      <th></th>\n",
       "      <th>Qualification</th>\n",
       "      <th>Experience</th>\n",
       "      <th>Rating</th>\n",
       "      <th>Place</th>\n",
       "      <th>Profile</th>\n",
       "      <th>Fees</th>\n",
       "    </tr>\n",
       "  </thead>\n",
       "  <tbody>\n",
       "    <tr>\n",
       "      <th>3980</th>\n",
       "      <td>BDS</td>\n",
       "      <td>23</td>\n",
       "      <td>98</td>\n",
       "      <td>e</td>\n",
       "      <td>Dentist</td>\n",
       "      <td>250</td>\n",
       "    </tr>\n",
       "  </tbody>\n",
       "</table>\n",
       "</div>"
      ],
      "text/plain": [
       "     Qualification  Experience  Rating Place  Profile  Fees\n",
       "3980           BDS          23      98     e  Dentist   250"
      ]
     },
     "execution_count": 68,
     "metadata": {},
     "output_type": "execute_result"
    }
   ],
   "source": [
    "taps[taps['Place']=='e']"
   ]
  },
  {
   "cell_type": "code",
   "execution_count": 73,
   "metadata": {},
   "outputs": [],
   "source": [
    "data['Place'].fillna('Malleswaram, Bangalore',inplace=True)"
   ]
  },
  {
   "cell_type": "code",
   "execution_count": 74,
   "metadata": {},
   "outputs": [],
   "source": [
    "data['Place']=data['Place'].apply(Placeexactly)"
   ]
  },
  {
   "cell_type": "code",
   "execution_count": 76,
   "metadata": {},
   "outputs": [],
   "source": [
    "def removethee(x):\n",
    "    if x=='e':\n",
    "        return 'Bangalore'\n",
    "    else:\n",
    "        return x"
   ]
  },
  {
   "cell_type": "code",
   "execution_count": 77,
   "metadata": {},
   "outputs": [],
   "source": [
    "data['Place']=data['Place'].apply(removethee)"
   ]
  },
  {
   "cell_type": "code",
   "execution_count": 79,
   "metadata": {},
   "outputs": [
    {
     "data": {
      "text/plain": [
       "Bangalore             1284\n",
       "Mumbai                1219\n",
       "Delhi                 1185\n",
       "Hyderabad              951\n",
       "Chennai                855\n",
       "Coimbatore             228\n",
       "Ernakulam              153\n",
       "Thiruvananthapuram      86\n",
       "Name: Place, dtype: int64"
      ]
     },
     "execution_count": 79,
     "metadata": {},
     "output_type": "execute_result"
    }
   ],
   "source": [
    "data['Place'].value_counts()"
   ]
  },
  {
   "cell_type": "code",
   "execution_count": 80,
   "metadata": {},
   "outputs": [],
   "source": [
    "fraps=test[test['Place'].notnull()]"
   ]
  },
  {
   "cell_type": "code",
   "execution_count": 81,
   "metadata": {},
   "outputs": [
    {
     "name": "stderr",
     "output_type": "stream",
     "text": [
      "C:\\Users\\Mubarak\\Anaconda3\\lib\\site-packages\\ipykernel_launcher.py:1: SettingWithCopyWarning: \n",
      "A value is trying to be set on a copy of a slice from a DataFrame.\n",
      "Try using .loc[row_indexer,col_indexer] = value instead\n",
      "\n",
      "See the caveats in the documentation: http://pandas.pydata.org/pandas-docs/stable/indexing.html#indexing-view-versus-copy\n",
      "  \"\"\"Entry point for launching an IPython kernel.\n"
     ]
    }
   ],
   "source": [
    "fraps['Place']=fraps['Place'].apply(Placeexactly)"
   ]
  },
  {
   "cell_type": "code",
   "execution_count": 82,
   "metadata": {},
   "outputs": [
    {
     "data": {
      "text/plain": [
       "Bangalore             420\n",
       "Delhi                 417\n",
       "Mumbai                389\n",
       "Hyderabad             333\n",
       "Chennai               287\n",
       "Coimbatore             70\n",
       "Ernakulam              48\n",
       "Thiruvananthapuram     17\n",
       "Name: Place, dtype: int64"
      ]
     },
     "execution_count": 82,
     "metadata": {},
     "output_type": "execute_result"
    }
   ],
   "source": [
    "fraps['Place'].value_counts()"
   ]
  },
  {
   "cell_type": "code",
   "execution_count": 83,
   "metadata": {},
   "outputs": [],
   "source": [
    "test['Place'].fillna('Malleswaram, Bangalore',inplace=True)"
   ]
  },
  {
   "cell_type": "code",
   "execution_count": 84,
   "metadata": {},
   "outputs": [],
   "source": [
    "test['Place']=test['Place'].apply(Placeexactly)"
   ]
  },
  {
   "cell_type": "code",
   "execution_count": 85,
   "metadata": {},
   "outputs": [
    {
     "data": {
      "text/plain": [
       "Bangalore             426\n",
       "Delhi                 417\n",
       "Mumbai                389\n",
       "Hyderabad             333\n",
       "Chennai               287\n",
       "Coimbatore             70\n",
       "Ernakulam              48\n",
       "Thiruvananthapuram     17\n",
       "Name: Place, dtype: int64"
      ]
     },
     "execution_count": 85,
     "metadata": {},
     "output_type": "execute_result"
    }
   ],
   "source": [
    "test['Place'].value_counts()"
   ]
  },
  {
   "cell_type": "code",
   "execution_count": 88,
   "metadata": {},
   "outputs": [
    {
     "name": "stdout",
     "output_type": "stream",
     "text": [
      "<class 'pandas.core.frame.DataFrame'>\n",
      "RangeIndex: 5961 entries, 0 to 5960\n",
      "Data columns (total 6 columns):\n",
      "Qualification    5961 non-null object\n",
      "Experience       5961 non-null int32\n",
      "Rating           5961 non-null int32\n",
      "Place            5961 non-null object\n",
      "Profile          5961 non-null object\n",
      "Fees             5961 non-null int64\n",
      "dtypes: int32(2), int64(1), object(3)\n",
      "memory usage: 232.9+ KB\n"
     ]
    }
   ],
   "source": [
    "data.info()"
   ]
  },
  {
   "cell_type": "code",
   "execution_count": 89,
   "metadata": {},
   "outputs": [
    {
     "name": "stdout",
     "output_type": "stream",
     "text": [
      "<class 'pandas.core.frame.DataFrame'>\n",
      "RangeIndex: 1987 entries, 0 to 1986\n",
      "Data columns (total 5 columns):\n",
      "Qualification    1987 non-null object\n",
      "Experience       1987 non-null int32\n",
      "Rating           1987 non-null int32\n",
      "Place            1987 non-null object\n",
      "Profile          1987 non-null object\n",
      "dtypes: int32(2), object(3)\n",
      "memory usage: 62.2+ KB\n"
     ]
    }
   ],
   "source": [
    "test.info()"
   ]
  },
  {
   "cell_type": "markdown",
   "metadata": {},
   "source": [
    "# Prepoccesing\n",
    "converting categorical variables to meaningful numbers"
   ]
  },
  {
   "cell_type": "markdown",
   "metadata": {},
   "source": [
    "we convert ratings first"
   ]
  },
  {
   "cell_type": "code",
   "execution_count": 95,
   "metadata": {},
   "outputs": [
    {
     "data": {
      "text/html": [
       "<div>\n",
       "<style scoped>\n",
       "    .dataframe tbody tr th:only-of-type {\n",
       "        vertical-align: middle;\n",
       "    }\n",
       "\n",
       "    .dataframe tbody tr th {\n",
       "        vertical-align: top;\n",
       "    }\n",
       "\n",
       "    .dataframe thead th {\n",
       "        text-align: right;\n",
       "    }\n",
       "</style>\n",
       "<table border=\"1\" class=\"dataframe\">\n",
       "  <thead>\n",
       "    <tr style=\"text-align: right;\">\n",
       "      <th></th>\n",
       "      <th>Qualification</th>\n",
       "      <th>Experience</th>\n",
       "      <th>Rating</th>\n",
       "      <th>Place</th>\n",
       "      <th>Profile</th>\n",
       "      <th>Fees</th>\n",
       "    </tr>\n",
       "  </thead>\n",
       "  <tbody>\n",
       "    <tr>\n",
       "      <th>55</th>\n",
       "      <td>MBBS</td>\n",
       "      <td>25</td>\n",
       "      <td>36</td>\n",
       "      <td>Bangalore</td>\n",
       "      <td>ENT Specialist</td>\n",
       "      <td>600</td>\n",
       "    </tr>\n",
       "    <tr>\n",
       "      <th>692</th>\n",
       "      <td>MBBS</td>\n",
       "      <td>29</td>\n",
       "      <td>33</td>\n",
       "      <td>Delhi</td>\n",
       "      <td>Dermatologists</td>\n",
       "      <td>500</td>\n",
       "    </tr>\n",
       "    <tr>\n",
       "      <th>911</th>\n",
       "      <td>Diploma</td>\n",
       "      <td>31</td>\n",
       "      <td>45</td>\n",
       "      <td>Mumbai</td>\n",
       "      <td>Homeopath</td>\n",
       "      <td>500</td>\n",
       "    </tr>\n",
       "    <tr>\n",
       "      <th>2585</th>\n",
       "      <td>MRCPCH (UK)</td>\n",
       "      <td>19</td>\n",
       "      <td>7</td>\n",
       "      <td>Hyderabad</td>\n",
       "      <td>General Medicine</td>\n",
       "      <td>100</td>\n",
       "    </tr>\n",
       "    <tr>\n",
       "      <th>3126</th>\n",
       "      <td>MBBS</td>\n",
       "      <td>38</td>\n",
       "      <td>48</td>\n",
       "      <td>Delhi</td>\n",
       "      <td>ENT Specialist</td>\n",
       "      <td>800</td>\n",
       "    </tr>\n",
       "    <tr>\n",
       "      <th>3604</th>\n",
       "      <td>MBBS</td>\n",
       "      <td>33</td>\n",
       "      <td>40</td>\n",
       "      <td>Chennai</td>\n",
       "      <td>General Medicine</td>\n",
       "      <td>700</td>\n",
       "    </tr>\n",
       "    <tr>\n",
       "      <th>5028</th>\n",
       "      <td>MBBS</td>\n",
       "      <td>30</td>\n",
       "      <td>47</td>\n",
       "      <td>Bangalore</td>\n",
       "      <td>ENT Specialist</td>\n",
       "      <td>650</td>\n",
       "    </tr>\n",
       "    <tr>\n",
       "      <th>5127</th>\n",
       "      <td>MBBS</td>\n",
       "      <td>19</td>\n",
       "      <td>33</td>\n",
       "      <td>Bangalore</td>\n",
       "      <td>ENT Specialist</td>\n",
       "      <td>650</td>\n",
       "    </tr>\n",
       "  </tbody>\n",
       "</table>\n",
       "</div>"
      ],
      "text/plain": [
       "     Qualification  Experience  Rating      Place           Profile  Fees\n",
       "55            MBBS          25      36  Bangalore    ENT Specialist   600\n",
       "692           MBBS          29      33      Delhi    Dermatologists   500\n",
       "911        Diploma          31      45     Mumbai         Homeopath   500\n",
       "2585   MRCPCH (UK)          19       7  Hyderabad  General Medicine   100\n",
       "3126          MBBS          38      48      Delhi    ENT Specialist   800\n",
       "3604          MBBS          33      40    Chennai  General Medicine   700\n",
       "5028          MBBS          30      47  Bangalore    ENT Specialist   650\n",
       "5127          MBBS          19      33  Bangalore    ENT Specialist   650"
      ]
     },
     "execution_count": 95,
     "metadata": {},
     "output_type": "execute_result"
    }
   ],
   "source": [
    "data[data['Rating']<50]"
   ]
  },
  {
   "cell_type": "code",
   "execution_count": 92,
   "metadata": {},
   "outputs": [
    {
     "data": {
      "text/plain": [
       "5"
      ]
     },
     "execution_count": 92,
     "metadata": {},
     "output_type": "execute_result"
    }
   ],
   "source": [
    "data['Fees'].min()"
   ]
  },
  {
   "cell_type": "code",
   "execution_count": 93,
   "metadata": {},
   "outputs": [
    {
     "data": {
      "text/html": [
       "<div>\n",
       "<style scoped>\n",
       "    .dataframe tbody tr th:only-of-type {\n",
       "        vertical-align: middle;\n",
       "    }\n",
       "\n",
       "    .dataframe tbody tr th {\n",
       "        vertical-align: top;\n",
       "    }\n",
       "\n",
       "    .dataframe thead th {\n",
       "        text-align: right;\n",
       "    }\n",
       "</style>\n",
       "<table border=\"1\" class=\"dataframe\">\n",
       "  <thead>\n",
       "    <tr style=\"text-align: right;\">\n",
       "      <th></th>\n",
       "      <th>Qualification</th>\n",
       "      <th>Experience</th>\n",
       "      <th>Rating</th>\n",
       "      <th>Place</th>\n",
       "      <th>Profile</th>\n",
       "      <th>Fees</th>\n",
       "    </tr>\n",
       "  </thead>\n",
       "  <tbody>\n",
       "    <tr>\n",
       "      <th>1930</th>\n",
       "      <td>BDS</td>\n",
       "      <td>6</td>\n",
       "      <td>98</td>\n",
       "      <td>Thiruvananthapuram</td>\n",
       "      <td>Dentist</td>\n",
       "      <td>5</td>\n",
       "    </tr>\n",
       "  </tbody>\n",
       "</table>\n",
       "</div>"
      ],
      "text/plain": [
       "     Qualification  Experience  Rating               Place  Profile  Fees\n",
       "1930           BDS           6      98  Thiruvananthapuram  Dentist     5"
      ]
     },
     "execution_count": 93,
     "metadata": {},
     "output_type": "execute_result"
    }
   ],
   "source": [
    "data[data['Fees']==5]"
   ]
  },
  {
   "cell_type": "code",
   "execution_count": 94,
   "metadata": {},
   "outputs": [
    {
     "data": {
      "text/plain": [
       "<matplotlib.collections.PathCollection at 0x1aa4364b908>"
      ]
     },
     "execution_count": 94,
     "metadata": {},
     "output_type": "execute_result"
    },
    {
     "data": {
      "image/png": "[encoded data removed]",
      "text/plain": [
       "<matplotlib.figure.Figure at 0x1aa435e35c0>"
      ]
     },
     "metadata": {
      "needs_background": "light"
     },
     "output_type": "display_data"
    }
   ],
   "source": [
    "plt.scatter(data['Rating'],data['Fees'])"
   ]
  },
  {
   "cell_type": "code",
   "execution_count": 96,
   "metadata": {
    "scrolled": true
   },
   "outputs": [
    {
     "data": {
      "text/plain": [
       "Place\n",
       "Bangalore             324.364486\n",
       "Chennai               283.602339\n",
       "Coimbatore            154.298246\n",
       "Delhi                 362.911392\n",
       "Ernakulam             188.431373\n",
       "Hyderabad             307.507886\n",
       "Mumbai                308.292863\n",
       "Thiruvananthapuram    167.267442\n",
       "Name: Fees, dtype: float64"
      ]
     },
     "execution_count": 96,
     "metadata": {},
     "output_type": "execute_result"
    }
   ],
   "source": [
    "data.groupby('Place')['Fees'].mean()"
   ]
  },
  {
   "cell_type": "code",
   "execution_count": 97,
   "metadata": {},
   "outputs": [],
   "source": [
    "def crat(x):\n",
    "    if x<=50: #50 because of max rating is 100\n",
    "        return 1 #because of the meaningful magnitude\n",
    "    if x>50:\n",
    "        return 2"
   ]
  },
  {
   "cell_type": "code",
   "execution_count": 98,
   "metadata": {},
   "outputs": [],
   "source": [
    "data['Rating']=data['Rating'].apply(crat)"
   ]
  },
  {
   "cell_type": "code",
   "execution_count": 99,
   "metadata": {},
   "outputs": [],
   "source": [
    "test['Rating']=test['Rating'].apply(crat)"
   ]
  },
  {
   "cell_type": "code",
   "execution_count": 100,
   "metadata": {},
   "outputs": [
    {
     "data": {
      "text/plain": [
       "Rating\n",
       "1    562.500000\n",
       "2    307.602553\n",
       "Name: Fees, dtype: float64"
      ]
     },
     "execution_count": 100,
     "metadata": {},
     "output_type": "execute_result"
    }
   ],
   "source": [
    "data.groupby('Rating')['Fees'].mean()"
   ]
  },
  {
   "cell_type": "code",
   "execution_count": 106,
   "metadata": {},
   "outputs": [
    {
     "data": {
      "text/plain": [
       "2    0.998658\n",
       "1    0.001342\n",
       "Name: Rating, dtype: float64"
      ]
     },
     "execution_count": 106,
     "metadata": {},
     "output_type": "execute_result"
    }
   ],
   "source": [
    "data['Rating'].value_counts(normalize=True)"
   ]
  },
  {
   "cell_type": "code",
   "execution_count": 101,
   "metadata": {},
   "outputs": [],
   "source": [
    "def exper(x):\n",
    "    if x<=33:#33 because the max experience is 66\n",
    "        return 1 #for meaningful magnitude\n",
    "    if x>33:\n",
    "        return 2  "
   ]
  },
  {
   "cell_type": "code",
   "execution_count": 103,
   "metadata": {},
   "outputs": [],
   "source": [
    "data['Experience']=data['Experience'].apply(exper)"
   ]
  },
  {
   "cell_type": "code",
   "execution_count": 104,
   "metadata": {},
   "outputs": [],
   "source": [
    "test['Experience']=test['Experience'].apply(exper)"
   ]
  },
  {
   "cell_type": "code",
   "execution_count": 105,
   "metadata": {},
   "outputs": [
    {
     "data": {
      "text/plain": [
       "Experience\n",
       "1    312.954683\n",
       "2    268.045113\n",
       "Name: Fees, dtype: float64"
      ]
     },
     "execution_count": 105,
     "metadata": {},
     "output_type": "execute_result"
    }
   ],
   "source": [
    "data.groupby('Experience')['Fees'].mean()"
   ]
  },
  {
   "cell_type": "code",
   "execution_count": 107,
   "metadata": {},
   "outputs": [
    {
     "data": {
      "text/plain": [
       "1    0.888442\n",
       "2    0.111558\n",
       "Name: Experience, dtype: float64"
      ]
     },
     "execution_count": 107,
     "metadata": {},
     "output_type": "execute_result"
    }
   ],
   "source": [
    "data['Experience'].value_counts(normalize=True)"
   ]
  },
  {
   "cell_type": "markdown",
   "metadata": {},
   "source": [
    "# Transforming  Place "
   ]
  },
  {
   "cell_type": "code",
   "execution_count": 108,
   "metadata": {},
   "outputs": [
    {
     "data": {
      "text/plain": [
       "Bangalore             1284\n",
       "Mumbai                1219\n",
       "Delhi                 1185\n",
       "Hyderabad              951\n",
       "Chennai                855\n",
       "Coimbatore             228\n",
       "Ernakulam              153\n",
       "Thiruvananthapuram      86\n",
       "Name: Place, dtype: int64"
      ]
     },
     "execution_count": 108,
     "metadata": {},
     "output_type": "execute_result"
    }
   ],
   "source": [
    "data['Place'].value_counts()"
   ]
  },
  {
   "cell_type": "markdown",
   "metadata": {},
   "source": [
    "then we use target enconding"
   ]
  },
  {
   "cell_type": "code",
   "execution_count": 110,
   "metadata": {},
   "outputs": [],
   "source": [
    "place=data.groupby('Place')['Fees'].mean()"
   ]
  },
  {
   "cell_type": "code",
   "execution_count": 111,
   "metadata": {},
   "outputs": [],
   "source": [
    "data['Place']=data['Place'].map(place)"
   ]
  },
  {
   "cell_type": "code",
   "execution_count": 112,
   "metadata": {},
   "outputs": [],
   "source": [
    "test['Place']=test['Place'].map(place)"
   ]
  },
  {
   "cell_type": "code",
   "execution_count": 118,
   "metadata": {},
   "outputs": [
    {
     "data": {
      "text/html": [
       "<div>\n",
       "<style scoped>\n",
       "    .dataframe tbody tr th:only-of-type {\n",
       "        vertical-align: middle;\n",
       "    }\n",
       "\n",
       "    .dataframe tbody tr th {\n",
       "        vertical-align: top;\n",
       "    }\n",
       "\n",
       "    .dataframe thead th {\n",
       "        text-align: right;\n",
       "    }\n",
       "</style>\n",
       "<table border=\"1\" class=\"dataframe\">\n",
       "  <thead>\n",
       "    <tr style=\"text-align: right;\">\n",
       "      <th></th>\n",
       "      <th>Qualification</th>\n",
       "      <th>Experience</th>\n",
       "      <th>Rating</th>\n",
       "      <th>Place</th>\n",
       "      <th>Profile</th>\n",
       "      <th>Fees</th>\n",
       "    </tr>\n",
       "  </thead>\n",
       "  <tbody>\n",
       "    <tr>\n",
       "      <th>0</th>\n",
       "      <td>BHMS</td>\n",
       "      <td>1</td>\n",
       "      <td>2</td>\n",
       "      <td>188.431373</td>\n",
       "      <td>306.499407</td>\n",
       "      <td>100</td>\n",
       "    </tr>\n",
       "    <tr>\n",
       "      <th>1</th>\n",
       "      <td>BAMS</td>\n",
       "      <td>1</td>\n",
       "      <td>2</td>\n",
       "      <td>324.364486</td>\n",
       "      <td>238.968193</td>\n",
       "      <td>350</td>\n",
       "    </tr>\n",
       "    <tr>\n",
       "      <th>2</th>\n",
       "      <td>MBBS</td>\n",
       "      <td>1</td>\n",
       "      <td>2</td>\n",
       "      <td>324.364486</td>\n",
       "      <td>387.321429</td>\n",
       "      <td>300</td>\n",
       "    </tr>\n",
       "    <tr>\n",
       "      <th>3</th>\n",
       "      <td>BSC</td>\n",
       "      <td>1</td>\n",
       "      <td>2</td>\n",
       "      <td>324.364486</td>\n",
       "      <td>238.968193</td>\n",
       "      <td>250</td>\n",
       "    </tr>\n",
       "    <tr>\n",
       "      <th>4</th>\n",
       "      <td>BAMS</td>\n",
       "      <td>1</td>\n",
       "      <td>2</td>\n",
       "      <td>283.602339</td>\n",
       "      <td>238.968193</td>\n",
       "      <td>250</td>\n",
       "    </tr>\n",
       "  </tbody>\n",
       "</table>\n",
       "</div>"
      ],
      "text/plain": [
       "  Qualification  Experience  Rating       Place     Profile  Fees\n",
       "0          BHMS           1       2  188.431373  306.499407   100\n",
       "1          BAMS           1       2  324.364486  238.968193   350\n",
       "2          MBBS           1       2  324.364486  387.321429   300\n",
       "3           BSC           1       2  324.364486  238.968193   250\n",
       "4          BAMS           1       2  283.602339  238.968193   250"
      ]
     },
     "execution_count": 118,
     "metadata": {},
     "output_type": "execute_result"
    }
   ],
   "source": [
    "data.head()"
   ]
  },
  {
   "cell_type": "code",
   "execution_count": 115,
   "metadata": {},
   "outputs": [],
   "source": [
    "profile=data.groupby('Profile')['Fees'].mean()"
   ]
  },
  {
   "cell_type": "code",
   "execution_count": 116,
   "metadata": {},
   "outputs": [],
   "source": [
    "data['Profile']=data['Profile'].map(profile)"
   ]
  },
  {
   "cell_type": "code",
   "execution_count": 117,
   "metadata": {},
   "outputs": [],
   "source": [
    "test['Profile']=test['Profile'].map(profile)"
   ]
  },
  {
   "cell_type": "code",
   "execution_count": 120,
   "metadata": {},
   "outputs": [],
   "source": [
    "qualification=data.groupby('Qualification')['Fees'].mean()"
   ]
  },
  {
   "cell_type": "code",
   "execution_count": 121,
   "metadata": {},
   "outputs": [],
   "source": [
    "data['Qualification']=data['Qualification'].map(qualification)"
   ]
  },
  {
   "cell_type": "code",
   "execution_count": 122,
   "metadata": {},
   "outputs": [],
   "source": [
    "test['Qualification']=test['Qualification'].map(qualification)"
   ]
  },
  {
   "cell_type": "code",
   "execution_count": 123,
   "metadata": {},
   "outputs": [
    {
     "data": {
      "text/plain": [
       "<matplotlib.axes._subplots.AxesSubplot at 0x1aa43515978>"
      ]
     },
     "execution_count": 123,
     "metadata": {},
     "output_type": "execute_result"
    },
    {
     "data": {
      "image/png": "[encoded data removed]",
      "text/plain": [
       "<matplotlib.figure.Figure at 0x1aa43261c88>"
      ]
     },
     "metadata": {
      "needs_background": "light"
     },
     "output_type": "display_data"
    }
   ],
   "source": [
    "data['Fees'].hist()"
   ]
  },
  {
   "cell_type": "code",
   "execution_count": 124,
   "metadata": {},
   "outputs": [],
   "source": [
    "data['Fees']=np.log(data['Fees'])"
   ]
  },
  {
   "cell_type": "code",
   "execution_count": 125,
   "metadata": {},
   "outputs": [
    {
     "data": {
      "text/plain": [
       "<matplotlib.axes._subplots.AxesSubplot at 0x1aa430e1748>"
      ]
     },
     "execution_count": 125,
     "metadata": {},
     "output_type": "execute_result"
    },
    {
     "data": {
      "image/png": "[encoded data removed]",
      "text/plain": [
       "<matplotlib.figure.Figure at 0x1aa437b0b00>"
      ]
     },
     "metadata": {
      "needs_background": "light"
     },
     "output_type": "display_data"
    }
   ],
   "source": [
    "data['Fees'].hist()"
   ]
  },
  {
   "cell_type": "markdown",
   "metadata": {},
   "source": [
    "Data spliting"
   ]
  },
  {
   "cell_type": "code",
   "execution_count": 126,
   "metadata": {},
   "outputs": [],
   "source": [
    "X=data.drop('Fees',axis=1)\n",
    "y=data['Fees']"
   ]
  },
  {
   "cell_type": "code",
   "execution_count": 127,
   "metadata": {},
   "outputs": [],
   "source": [
    "from sklearn.model_selection import train_test_split"
   ]
  },
  {
   "cell_type": "code",
   "execution_count": 128,
   "metadata": {},
   "outputs": [],
   "source": [
    " X_train, X_test, y_train, y_test = train_test_split(X, y, test_size=0.30, random_state=101)"
   ]
  },
  {
   "cell_type": "code",
   "execution_count": 129,
   "metadata": {},
   "outputs": [],
   "source": [
    "import lightgbm as lgb"
   ]
  },
  {
   "cell_type": "code",
   "execution_count": 135,
   "metadata": {},
   "outputs": [],
   "source": [
    "params = {\n",
    "    'boosting_type': 'gbdt',\n",
    "    'objective': 'regression',\n",
    "    'eval_metric': 'rmsle',\n",
    "    'max_depth': 7, \n",
    "    'learning_rate': 0.1,\n",
    "    'verbose': 0, \n",
    "    'early_stopping_round': 30}\n",
    "n_estimators = 700\n"
   ]
  },
  {
   "cell_type": "code",
   "execution_count": 131,
   "metadata": {},
   "outputs": [],
   "source": [
    " d_train = lgb.Dataset(X_train, label=y_train)"
   ]
  },
  {
   "cell_type": "code",
   "execution_count": 132,
   "metadata": {},
   "outputs": [],
   "source": [
    "d_valid = lgb.Dataset(X_test, label=y_test)"
   ]
  },
  {
   "cell_type": "code",
   "execution_count": 133,
   "metadata": {},
   "outputs": [],
   "source": [
    "watchlist = [d_valid]"
   ]
  },
  {
   "cell_type": "code",
   "execution_count": 136,
   "metadata": {},
   "outputs": [
    {
     "name": "stderr",
     "output_type": "stream",
     "text": [
      "C:\\Users\\Mubarak\\Anaconda3\\lib\\site-packages\\lightgbm\\engine.py:118: UserWarning: Found `early_stopping_round` in params. Will use it instead of argument\n",
      "  warnings.warn(\"Found `{}` in params. Will use it instead of argument\".format(alias))\n"
     ]
    },
    {
     "name": "stdout",
     "output_type": "stream",
     "text": [
      "[1]\tvalid_0's l2: 0.440246\n",
      "Training until validation scores don't improve for 30 rounds.\n",
      "[2]\tvalid_0's l2: 0.427177\n",
      "[3]\tvalid_0's l2: 0.416708\n",
      "[4]\tvalid_0's l2: 0.408357\n",
      "[5]\tvalid_0's l2: 0.401524\n",
      "[6]\tvalid_0's l2: 0.396379\n",
      "[7]\tvalid_0's l2: 0.392363\n",
      "[8]\tvalid_0's l2: 0.389333\n",
      "[9]\tvalid_0's l2: 0.386755\n",
      "[10]\tvalid_0's l2: 0.384954\n",
      "[11]\tvalid_0's l2: 0.383612\n",
      "[12]\tvalid_0's l2: 0.382489\n",
      "[13]\tvalid_0's l2: 0.381202\n",
      "[14]\tvalid_0's l2: 0.380227\n",
      "[15]\tvalid_0's l2: 0.379637\n",
      "[16]\tvalid_0's l2: 0.379168\n",
      "[17]\tvalid_0's l2: 0.378785\n",
      "[18]\tvalid_0's l2: 0.378524\n",
      "[19]\tvalid_0's l2: 0.378303\n",
      "[20]\tvalid_0's l2: 0.378106\n",
      "[21]\tvalid_0's l2: 0.378033\n",
      "[22]\tvalid_0's l2: 0.377998\n",
      "[23]\tvalid_0's l2: 0.377899\n",
      "[24]\tvalid_0's l2: 0.377992\n",
      "[25]\tvalid_0's l2: 0.378036\n",
      "[26]\tvalid_0's l2: 0.378052\n",
      "[27]\tvalid_0's l2: 0.378112\n",
      "[28]\tvalid_0's l2: 0.378353\n",
      "[29]\tvalid_0's l2: 0.378643\n",
      "[30]\tvalid_0's l2: 0.378832\n",
      "[31]\tvalid_0's l2: 0.378953\n",
      "[32]\tvalid_0's l2: 0.379121\n",
      "[33]\tvalid_0's l2: 0.379242\n",
      "[34]\tvalid_0's l2: 0.37942\n",
      "[35]\tvalid_0's l2: 0.379556\n",
      "[36]\tvalid_0's l2: 0.379725\n",
      "[37]\tvalid_0's l2: 0.379701\n",
      "[38]\tvalid_0's l2: 0.379732\n",
      "[39]\tvalid_0's l2: 0.379745\n",
      "[40]\tvalid_0's l2: 0.379741\n",
      "[41]\tvalid_0's l2: 0.379873\n",
      "[42]\tvalid_0's l2: 0.379975\n",
      "[43]\tvalid_0's l2: 0.379775\n",
      "[44]\tvalid_0's l2: 0.379755\n",
      "[45]\tvalid_0's l2: 0.379568\n",
      "[46]\tvalid_0's l2: 0.379554\n",
      "[47]\tvalid_0's l2: 0.379651\n",
      "[48]\tvalid_0's l2: 0.379719\n",
      "[49]\tvalid_0's l2: 0.379582\n",
      "[50]\tvalid_0's l2: 0.379538\n",
      "[51]\tvalid_0's l2: 0.379494\n",
      "[52]\tvalid_0's l2: 0.379626\n",
      "[53]\tvalid_0's l2: 0.379557\n",
      "Early stopping, best iteration is:\n",
      "[23]\tvalid_0's l2: 0.377899\n"
     ]
    }
   ],
   "source": [
    " model = lgb.train(params, d_train, n_estimators, watchlist, verbose_eval=1)"
   ]
  },
  {
   "cell_type": "code",
   "execution_count": 137,
   "metadata": {},
   "outputs": [],
   "source": [
    " preds = model.predict(test)"
   ]
  },
  {
   "cell_type": "code",
   "execution_count": 138,
   "metadata": {},
   "outputs": [],
   "source": [
    "preds = np.exp(preds)"
   ]
  },
  {
   "cell_type": "code",
   "execution_count": 139,
   "metadata": {},
   "outputs": [],
   "source": [
    "Doctor=pd.DataFrame()"
   ]
  },
  {
   "cell_type": "code",
   "execution_count": 140,
   "metadata": {},
   "outputs": [],
   "source": [
    "Doctor['Fees']=preds"
   ]
  },
  {
   "cell_type": "code",
   "execution_count": 141,
   "metadata": {},
   "outputs": [],
   "source": [
    "Doctor.to_excel('doctor1.xlsx',index=False)"
   ]
  },
  {
   "cell_type": "code",
   "execution_count": 142,
   "metadata": {},
   "outputs": [
    {
     "data": {
      "text/html": [
       "<div>\n",
       "<style scoped>\n",
       "    .dataframe tbody tr th:only-of-type {\n",
       "        vertical-align: middle;\n",
       "    }\n",
       "\n",
       "    .dataframe tbody tr th {\n",
       "        vertical-align: top;\n",
       "    }\n",
       "\n",
       "    .dataframe thead th {\n",
       "        text-align: right;\n",
       "    }\n",
       "</style>\n",
       "<table border=\"1\" class=\"dataframe\">\n",
       "  <thead>\n",
       "    <tr style=\"text-align: right;\">\n",
       "      <th></th>\n",
       "      <th>Fees</th>\n",
       "    </tr>\n",
       "  </thead>\n",
       "  <tbody>\n",
       "    <tr>\n",
       "      <th>0</th>\n",
       "      <td>181.418415</td>\n",
       "    </tr>\n",
       "    <tr>\n",
       "      <th>1</th>\n",
       "      <td>344.673649</td>\n",
       "    </tr>\n",
       "    <tr>\n",
       "      <th>2</th>\n",
       "      <td>253.090759</td>\n",
       "    </tr>\n",
       "    <tr>\n",
       "      <th>3</th>\n",
       "      <td>246.189086</td>\n",
       "    </tr>\n",
       "    <tr>\n",
       "      <th>4</th>\n",
       "      <td>215.212146</td>\n",
       "    </tr>\n",
       "  </tbody>\n",
       "</table>\n",
       "</div>"
      ],
      "text/plain": [
       "         Fees\n",
       "0  181.418415\n",
       "1  344.673649\n",
       "2  253.090759\n",
       "3  246.189086\n",
       "4  215.212146"
      ]
     },
     "execution_count": 142,
     "metadata": {},
     "output_type": "execute_result"
    }
   ],
   "source": [
    "Doctor.head()"
   ]
  },
  {
   "cell_type": "code",
   "execution_count": 143,
   "metadata": {},
   "outputs": [],
   "source": [
    "prete=model.predict(X_test)"
   ]
  },
  {
   "cell_type": "code",
   "execution_count": 145,
   "metadata": {},
   "outputs": [],
   "source": [
    "from sklearn.metrics import mean_squared_error"
   ]
  },
  {
   "cell_type": "code",
   "execution_count": 146,
   "metadata": {},
   "outputs": [
    {
     "data": {
      "text/plain": [
       "0.6147351496684083"
      ]
     },
     "execution_count": 146,
     "metadata": {},
     "output_type": "execute_result"
    }
   ],
   "source": [
    "np.sqrt(mean_squared_error(y_test,prete))"
   ]
  },
  {
   "cell_type": "code",
   "execution_count": null,
   "metadata": {},
   "outputs": [],
   "source": []
  }
 ],
 "metadata": {
  "kernelspec": {
   "display_name": "Python 3",
   "language": "python",
   "name": "python3"
  },
  "language_info": {
   "codemirror_mode": {
    "name": "ipython",
    "version": 3
   },
   "file_extension": ".py",
   "mimetype": "text/x-python",
   "name": "python",
   "nbconvert_exporter": "python",
   "pygments_lexer": "ipython3",
   "version": "3.6.4"
  }
 },
 "nbformat": 4,
 "nbformat_minor": 2
}
